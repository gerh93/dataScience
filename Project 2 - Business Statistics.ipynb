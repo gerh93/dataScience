{
 "cells": [
  {
   "cell_type": "markdown",
   "metadata": {},
   "source": [
    "# E-News Express Project"
   ]
  },
  {
   "cell_type": "markdown",
   "metadata": {},
   "source": [
    "## Introduction\n",
    "E-News Express is an online news portal. The company has hired me as a Data Scientist to analyze the new landing page that the design team has created to attract new subscribers, and to analyze if the new landing page is more effective than the old one.\n",
    "\n",
    "## Objective \n",
    "To analyze the subscribers interests and determine whether the new landing page will be effective or not in attracting new subscribers.\n",
    "\n",
    "## Key Questions/Actions:\n",
    "1. Explore the dataset and extract insights using Exploratory Data Analysis.\n",
    "2. Do the users spend more time on the new landing page than the old landing page? \n",
    "3. Is the conversion rate (the proportion of users who visit the landing page and get converted) for the new page greater than the conversion rate for the old page?\n",
    "4. Does the converted status depend on the preferred language? \n",
    "5. Is the mean time spent on the new page same for the different language users?\n",
    "6. What conclusions do the tests lead to? \n",
    "7. What reservations we have about the result?\n",
    "8. Level of Significance = 0.05.\n",
    "\n",
    "## Data Dictionary:\n",
    "1. user_id: represents the user ID of the person visiting the landing page.\n",
    "2. group: represents whether the user belongs to the first group (control) or the second group (treatment). \n",
    "3. landing_page: represents whether the landing page is new or old.\n",
    "4. time_spent_on_the_page: represents the time (in minutes) spent bythe user on the landing page.\n",
    "5. converted: represents whether the user gets converted or not.\n",
    "6. language_preferred: represents the language chose by the user to view landing page "
   ]
  },
  {
   "cell_type": "code",
   "execution_count": 2,
   "metadata": {},
   "outputs": [],
   "source": [
    "# import numpy to perform complex algebra functions\n",
    "# import pandas to import csv file\n",
    "# import matplotlib to make changes to figures\n",
    "# import seaborn to add high level features to graphs\n",
    "# %matplotlin inline enables python to plot graphs\n",
    "# import scipy to perform high level statistics functions\n",
    "import warnings\n",
    "warnings.filterwarnings('ignore') \n",
    "import numpy as np\n",
    "import pandas as pd\n",
    "import matplotlib.pyplot as plt\n",
    "%matplotlib inline\n",
    "import seaborn as sns\n",
    "sns.set(color_codes=True) # adds background to graphs\n",
    "import scipy.stats as stats"
   ]
  },
  {
   "cell_type": "markdown",
   "metadata": {},
   "source": [
    "### Import/Read Dataset"
   ]
  },
  {
   "cell_type": "code",
   "execution_count": 3,
   "metadata": {
    "scrolled": true
   },
   "outputs": [
    {
     "data": {
      "text/html": [
       "<div>\n",
       "<style scoped>\n",
       "    .dataframe tbody tr th:only-of-type {\n",
       "        vertical-align: middle;\n",
       "    }\n",
       "\n",
       "    .dataframe tbody tr th {\n",
       "        vertical-align: top;\n",
       "    }\n",
       "\n",
       "    .dataframe thead th {\n",
       "        text-align: right;\n",
       "    }\n",
       "</style>\n",
       "<table border=\"1\" class=\"dataframe\">\n",
       "  <thead>\n",
       "    <tr style=\"text-align: right;\">\n",
       "      <th></th>\n",
       "      <th>user_id</th>\n",
       "      <th>group</th>\n",
       "      <th>landing_page</th>\n",
       "      <th>time_spent_on_the_page</th>\n",
       "      <th>converted</th>\n",
       "      <th>language_preferred</th>\n",
       "    </tr>\n",
       "  </thead>\n",
       "  <tbody>\n",
       "    <tr>\n",
       "      <th>0</th>\n",
       "      <td>546592</td>\n",
       "      <td>control</td>\n",
       "      <td>old</td>\n",
       "      <td>3.48</td>\n",
       "      <td>yes</td>\n",
       "      <td>Spanish</td>\n",
       "    </tr>\n",
       "    <tr>\n",
       "      <th>1</th>\n",
       "      <td>546468</td>\n",
       "      <td>treatment</td>\n",
       "      <td>new</td>\n",
       "      <td>7.13</td>\n",
       "      <td>yes</td>\n",
       "      <td>English</td>\n",
       "    </tr>\n",
       "    <tr>\n",
       "      <th>2</th>\n",
       "      <td>546462</td>\n",
       "      <td>treatment</td>\n",
       "      <td>new</td>\n",
       "      <td>4.40</td>\n",
       "      <td>no</td>\n",
       "      <td>Spanish</td>\n",
       "    </tr>\n",
       "    <tr>\n",
       "      <th>3</th>\n",
       "      <td>546567</td>\n",
       "      <td>control</td>\n",
       "      <td>old</td>\n",
       "      <td>3.02</td>\n",
       "      <td>no</td>\n",
       "      <td>French</td>\n",
       "    </tr>\n",
       "    <tr>\n",
       "      <th>4</th>\n",
       "      <td>546459</td>\n",
       "      <td>treatment</td>\n",
       "      <td>new</td>\n",
       "      <td>4.75</td>\n",
       "      <td>yes</td>\n",
       "      <td>Spanish</td>\n",
       "    </tr>\n",
       "    <tr>\n",
       "      <th>...</th>\n",
       "      <td>...</td>\n",
       "      <td>...</td>\n",
       "      <td>...</td>\n",
       "      <td>...</td>\n",
       "      <td>...</td>\n",
       "      <td>...</td>\n",
       "    </tr>\n",
       "    <tr>\n",
       "      <th>95</th>\n",
       "      <td>546446</td>\n",
       "      <td>treatment</td>\n",
       "      <td>new</td>\n",
       "      <td>5.15</td>\n",
       "      <td>no</td>\n",
       "      <td>Spanish</td>\n",
       "    </tr>\n",
       "    <tr>\n",
       "      <th>96</th>\n",
       "      <td>546544</td>\n",
       "      <td>control</td>\n",
       "      <td>old</td>\n",
       "      <td>6.52</td>\n",
       "      <td>yes</td>\n",
       "      <td>English</td>\n",
       "    </tr>\n",
       "    <tr>\n",
       "      <th>97</th>\n",
       "      <td>546472</td>\n",
       "      <td>treatment</td>\n",
       "      <td>new</td>\n",
       "      <td>7.07</td>\n",
       "      <td>yes</td>\n",
       "      <td>Spanish</td>\n",
       "    </tr>\n",
       "    <tr>\n",
       "      <th>98</th>\n",
       "      <td>546481</td>\n",
       "      <td>treatment</td>\n",
       "      <td>new</td>\n",
       "      <td>6.20</td>\n",
       "      <td>yes</td>\n",
       "      <td>Spanish</td>\n",
       "    </tr>\n",
       "    <tr>\n",
       "      <th>99</th>\n",
       "      <td>546483</td>\n",
       "      <td>treatment</td>\n",
       "      <td>new</td>\n",
       "      <td>5.86</td>\n",
       "      <td>yes</td>\n",
       "      <td>English</td>\n",
       "    </tr>\n",
       "  </tbody>\n",
       "</table>\n",
       "<p>100 rows × 6 columns</p>\n",
       "</div>"
      ],
      "text/plain": [
       "    user_id      group landing_page  time_spent_on_the_page converted  \\\n",
       "0    546592    control          old                    3.48       yes   \n",
       "1    546468  treatment          new                    7.13       yes   \n",
       "2    546462  treatment          new                    4.40        no   \n",
       "3    546567    control          old                    3.02        no   \n",
       "4    546459  treatment          new                    4.75       yes   \n",
       "..      ...        ...          ...                     ...       ...   \n",
       "95   546446  treatment          new                    5.15        no   \n",
       "96   546544    control          old                    6.52       yes   \n",
       "97   546472  treatment          new                    7.07       yes   \n",
       "98   546481  treatment          new                    6.20       yes   \n",
       "99   546483  treatment          new                    5.86       yes   \n",
       "\n",
       "   language_preferred  \n",
       "0             Spanish  \n",
       "1             English  \n",
       "2             Spanish  \n",
       "3              French  \n",
       "4             Spanish  \n",
       "..                ...  \n",
       "95            Spanish  \n",
       "96            English  \n",
       "97            Spanish  \n",
       "98            Spanish  \n",
       "99            English  \n",
       "\n",
       "[100 rows x 6 columns]"
      ]
     },
     "execution_count": 3,
     "metadata": {},
     "output_type": "execute_result"
    }
   ],
   "source": [
    "# get original csv file, including index, rows and columns\n",
    "orig_df = pd.read_csv ('abtest.csv')\n",
    "orig_df"
   ]
  },
  {
   "cell_type": "code",
   "execution_count": 4,
   "metadata": {},
   "outputs": [
    {
     "data": {
      "text/html": [
       "<div>\n",
       "<style scoped>\n",
       "    .dataframe tbody tr th:only-of-type {\n",
       "        vertical-align: middle;\n",
       "    }\n",
       "\n",
       "    .dataframe tbody tr th {\n",
       "        vertical-align: top;\n",
       "    }\n",
       "\n",
       "    .dataframe thead th {\n",
       "        text-align: right;\n",
       "    }\n",
       "</style>\n",
       "<table border=\"1\" class=\"dataframe\">\n",
       "  <thead>\n",
       "    <tr style=\"text-align: right;\">\n",
       "      <th></th>\n",
       "      <th>user_id</th>\n",
       "      <th>group</th>\n",
       "      <th>landing_page</th>\n",
       "      <th>time_spent_on_the_page</th>\n",
       "      <th>converted</th>\n",
       "      <th>language_preferred</th>\n",
       "    </tr>\n",
       "  </thead>\n",
       "  <tbody>\n",
       "    <tr>\n",
       "      <th>0</th>\n",
       "      <td>546592</td>\n",
       "      <td>control</td>\n",
       "      <td>old</td>\n",
       "      <td>3.48</td>\n",
       "      <td>yes</td>\n",
       "      <td>Spanish</td>\n",
       "    </tr>\n",
       "    <tr>\n",
       "      <th>1</th>\n",
       "      <td>546468</td>\n",
       "      <td>treatment</td>\n",
       "      <td>new</td>\n",
       "      <td>7.13</td>\n",
       "      <td>yes</td>\n",
       "      <td>English</td>\n",
       "    </tr>\n",
       "    <tr>\n",
       "      <th>2</th>\n",
       "      <td>546462</td>\n",
       "      <td>treatment</td>\n",
       "      <td>new</td>\n",
       "      <td>4.40</td>\n",
       "      <td>no</td>\n",
       "      <td>Spanish</td>\n",
       "    </tr>\n",
       "    <tr>\n",
       "      <th>3</th>\n",
       "      <td>546567</td>\n",
       "      <td>control</td>\n",
       "      <td>old</td>\n",
       "      <td>3.02</td>\n",
       "      <td>no</td>\n",
       "      <td>French</td>\n",
       "    </tr>\n",
       "    <tr>\n",
       "      <th>4</th>\n",
       "      <td>546459</td>\n",
       "      <td>treatment</td>\n",
       "      <td>new</td>\n",
       "      <td>4.75</td>\n",
       "      <td>yes</td>\n",
       "      <td>Spanish</td>\n",
       "    </tr>\n",
       "    <tr>\n",
       "      <th>...</th>\n",
       "      <td>...</td>\n",
       "      <td>...</td>\n",
       "      <td>...</td>\n",
       "      <td>...</td>\n",
       "      <td>...</td>\n",
       "      <td>...</td>\n",
       "    </tr>\n",
       "    <tr>\n",
       "      <th>95</th>\n",
       "      <td>546446</td>\n",
       "      <td>treatment</td>\n",
       "      <td>new</td>\n",
       "      <td>5.15</td>\n",
       "      <td>no</td>\n",
       "      <td>Spanish</td>\n",
       "    </tr>\n",
       "    <tr>\n",
       "      <th>96</th>\n",
       "      <td>546544</td>\n",
       "      <td>control</td>\n",
       "      <td>old</td>\n",
       "      <td>6.52</td>\n",
       "      <td>yes</td>\n",
       "      <td>English</td>\n",
       "    </tr>\n",
       "    <tr>\n",
       "      <th>97</th>\n",
       "      <td>546472</td>\n",
       "      <td>treatment</td>\n",
       "      <td>new</td>\n",
       "      <td>7.07</td>\n",
       "      <td>yes</td>\n",
       "      <td>Spanish</td>\n",
       "    </tr>\n",
       "    <tr>\n",
       "      <th>98</th>\n",
       "      <td>546481</td>\n",
       "      <td>treatment</td>\n",
       "      <td>new</td>\n",
       "      <td>6.20</td>\n",
       "      <td>yes</td>\n",
       "      <td>Spanish</td>\n",
       "    </tr>\n",
       "    <tr>\n",
       "      <th>99</th>\n",
       "      <td>546483</td>\n",
       "      <td>treatment</td>\n",
       "      <td>new</td>\n",
       "      <td>5.86</td>\n",
       "      <td>yes</td>\n",
       "      <td>English</td>\n",
       "    </tr>\n",
       "  </tbody>\n",
       "</table>\n",
       "<p>100 rows × 6 columns</p>\n",
       "</div>"
      ],
      "text/plain": [
       "    user_id      group landing_page  time_spent_on_the_page converted  \\\n",
       "0    546592    control          old                    3.48       yes   \n",
       "1    546468  treatment          new                    7.13       yes   \n",
       "2    546462  treatment          new                    4.40        no   \n",
       "3    546567    control          old                    3.02        no   \n",
       "4    546459  treatment          new                    4.75       yes   \n",
       "..      ...        ...          ...                     ...       ...   \n",
       "95   546446  treatment          new                    5.15        no   \n",
       "96   546544    control          old                    6.52       yes   \n",
       "97   546472  treatment          new                    7.07       yes   \n",
       "98   546481  treatment          new                    6.20       yes   \n",
       "99   546483  treatment          new                    5.86       yes   \n",
       "\n",
       "   language_preferred  \n",
       "0             Spanish  \n",
       "1             English  \n",
       "2             Spanish  \n",
       "3              French  \n",
       "4             Spanish  \n",
       "..                ...  \n",
       "95            Spanish  \n",
       "96            English  \n",
       "97            Spanish  \n",
       "98            Spanish  \n",
       "99            English  \n",
       "\n",
       "[100 rows x 6 columns]"
      ]
     },
     "execution_count": 4,
     "metadata": {},
     "output_type": "execute_result"
    }
   ],
   "source": [
    "# make copy of original csv file to avoid making changes to the original datafram\n",
    "copy_df= orig_df.copy()\n",
    "copy_df"
   ]
  },
  {
   "cell_type": "markdown",
   "metadata": {},
   "source": [
    "### Preliminary Data Analysis"
   ]
  },
  {
   "cell_type": "code",
   "execution_count": 5,
   "metadata": {},
   "outputs": [
    {
     "data": {
      "text/html": [
       "<div>\n",
       "<style scoped>\n",
       "    .dataframe tbody tr th:only-of-type {\n",
       "        vertical-align: middle;\n",
       "    }\n",
       "\n",
       "    .dataframe tbody tr th {\n",
       "        vertical-align: top;\n",
       "    }\n",
       "\n",
       "    .dataframe thead th {\n",
       "        text-align: right;\n",
       "    }\n",
       "</style>\n",
       "<table border=\"1\" class=\"dataframe\">\n",
       "  <thead>\n",
       "    <tr style=\"text-align: right;\">\n",
       "      <th></th>\n",
       "      <th>user_id</th>\n",
       "      <th>group</th>\n",
       "      <th>landing_page</th>\n",
       "      <th>time_spent_on_the_page</th>\n",
       "      <th>converted</th>\n",
       "      <th>language_preferred</th>\n",
       "    </tr>\n",
       "  </thead>\n",
       "  <tbody>\n",
       "    <tr>\n",
       "      <th>0</th>\n",
       "      <td>546592</td>\n",
       "      <td>control</td>\n",
       "      <td>old</td>\n",
       "      <td>3.48</td>\n",
       "      <td>yes</td>\n",
       "      <td>Spanish</td>\n",
       "    </tr>\n",
       "    <tr>\n",
       "      <th>1</th>\n",
       "      <td>546468</td>\n",
       "      <td>treatment</td>\n",
       "      <td>new</td>\n",
       "      <td>7.13</td>\n",
       "      <td>yes</td>\n",
       "      <td>English</td>\n",
       "    </tr>\n",
       "    <tr>\n",
       "      <th>2</th>\n",
       "      <td>546462</td>\n",
       "      <td>treatment</td>\n",
       "      <td>new</td>\n",
       "      <td>4.40</td>\n",
       "      <td>no</td>\n",
       "      <td>Spanish</td>\n",
       "    </tr>\n",
       "    <tr>\n",
       "      <th>3</th>\n",
       "      <td>546567</td>\n",
       "      <td>control</td>\n",
       "      <td>old</td>\n",
       "      <td>3.02</td>\n",
       "      <td>no</td>\n",
       "      <td>French</td>\n",
       "    </tr>\n",
       "    <tr>\n",
       "      <th>4</th>\n",
       "      <td>546459</td>\n",
       "      <td>treatment</td>\n",
       "      <td>new</td>\n",
       "      <td>4.75</td>\n",
       "      <td>yes</td>\n",
       "      <td>Spanish</td>\n",
       "    </tr>\n",
       "    <tr>\n",
       "      <th>5</th>\n",
       "      <td>546558</td>\n",
       "      <td>control</td>\n",
       "      <td>old</td>\n",
       "      <td>5.28</td>\n",
       "      <td>yes</td>\n",
       "      <td>English</td>\n",
       "    </tr>\n",
       "    <tr>\n",
       "      <th>6</th>\n",
       "      <td>546448</td>\n",
       "      <td>treatment</td>\n",
       "      <td>new</td>\n",
       "      <td>5.25</td>\n",
       "      <td>yes</td>\n",
       "      <td>French</td>\n",
       "    </tr>\n",
       "    <tr>\n",
       "      <th>7</th>\n",
       "      <td>546581</td>\n",
       "      <td>control</td>\n",
       "      <td>old</td>\n",
       "      <td>6.53</td>\n",
       "      <td>yes</td>\n",
       "      <td>Spanish</td>\n",
       "    </tr>\n",
       "    <tr>\n",
       "      <th>8</th>\n",
       "      <td>546461</td>\n",
       "      <td>treatment</td>\n",
       "      <td>new</td>\n",
       "      <td>10.71</td>\n",
       "      <td>yes</td>\n",
       "      <td>French</td>\n",
       "    </tr>\n",
       "    <tr>\n",
       "      <th>9</th>\n",
       "      <td>546548</td>\n",
       "      <td>control</td>\n",
       "      <td>old</td>\n",
       "      <td>2.08</td>\n",
       "      <td>no</td>\n",
       "      <td>English</td>\n",
       "    </tr>\n",
       "  </tbody>\n",
       "</table>\n",
       "</div>"
      ],
      "text/plain": [
       "   user_id      group landing_page  time_spent_on_the_page converted  \\\n",
       "0   546592    control          old                    3.48       yes   \n",
       "1   546468  treatment          new                    7.13       yes   \n",
       "2   546462  treatment          new                    4.40        no   \n",
       "3   546567    control          old                    3.02        no   \n",
       "4   546459  treatment          new                    4.75       yes   \n",
       "5   546558    control          old                    5.28       yes   \n",
       "6   546448  treatment          new                    5.25       yes   \n",
       "7   546581    control          old                    6.53       yes   \n",
       "8   546461  treatment          new                   10.71       yes   \n",
       "9   546548    control          old                    2.08        no   \n",
       "\n",
       "  language_preferred  \n",
       "0            Spanish  \n",
       "1            English  \n",
       "2            Spanish  \n",
       "3             French  \n",
       "4            Spanish  \n",
       "5            English  \n",
       "6             French  \n",
       "7            Spanish  \n",
       "8             French  \n",
       "9            English  "
      ]
     },
     "execution_count": 5,
     "metadata": {},
     "output_type": "execute_result"
    }
   ],
   "source": [
    "# Checking top 10 rows\n",
    "copy_df.head(10)"
   ]
  },
  {
   "cell_type": "code",
   "execution_count": 6,
   "metadata": {},
   "outputs": [
    {
     "data": {
      "text/plain": [
       "(100, 6)"
      ]
     },
     "execution_count": 6,
     "metadata": {},
     "output_type": "execute_result"
    }
   ],
   "source": [
    "copy_df.shape"
   ]
  },
  {
   "cell_type": "markdown",
   "metadata": {},
   "source": [
    "- Dataset has 100 rows and 6 columns"
   ]
  },
  {
   "cell_type": "code",
   "execution_count": 7,
   "metadata": {},
   "outputs": [
    {
     "data": {
      "text/plain": [
       "user_id                   0\n",
       "group                     0\n",
       "landing_page              0\n",
       "time_spent_on_the_page    0\n",
       "converted                 0\n",
       "language_preferred        0\n",
       "dtype: int64"
      ]
     },
     "execution_count": 7,
     "metadata": {},
     "output_type": "execute_result"
    }
   ],
   "source": [
    "# check for missing values in all columns\n",
    "copy_df.isnull().sum()"
   ]
  },
  {
   "cell_type": "code",
   "execution_count": 8,
   "metadata": {},
   "outputs": [
    {
     "name": "stdout",
     "output_type": "stream",
     "text": [
      "<class 'pandas.core.frame.DataFrame'>\n",
      "RangeIndex: 100 entries, 0 to 99\n",
      "Data columns (total 6 columns):\n",
      " #   Column                  Non-Null Count  Dtype  \n",
      "---  ------                  --------------  -----  \n",
      " 0   user_id                 100 non-null    int64  \n",
      " 1   group                   100 non-null    object \n",
      " 2   landing_page            100 non-null    object \n",
      " 3   time_spent_on_the_page  100 non-null    float64\n",
      " 4   converted               100 non-null    object \n",
      " 5   language_preferred      100 non-null    object \n",
      "dtypes: float64(1), int64(1), object(4)\n",
      "memory usage: 4.8+ KB\n"
     ]
    }
   ],
   "source": [
    "copy_df.info()"
   ]
  },
  {
   "cell_type": "markdown",
   "metadata": {},
   "source": [
    "##### Observations\n",
    "- There are no missing values in the data frame\n",
    "- We need to normalize Datatypes in columns group, landing_page, converted, language_preferred are Dtype ='object' when Dtype should be = 'category' for memory eficiency purposes. "
   ]
  },
  {
   "cell_type": "code",
   "execution_count": 9,
   "metadata": {},
   "outputs": [],
   "source": [
    "copy_df['group'] = copy_df.group.astype('category')\n",
    "copy_df['landing_page'] = copy_df.landing_page.astype('category')\n",
    "copy_df['converted'] = copy_df.converted.astype('category')\n",
    "copy_df['language_preferred'] = copy_df.language_preferred.astype('category')"
   ]
  },
  {
   "cell_type": "code",
   "execution_count": 10,
   "metadata": {},
   "outputs": [
    {
     "name": "stdout",
     "output_type": "stream",
     "text": [
      "<class 'pandas.core.frame.DataFrame'>\n",
      "RangeIndex: 100 entries, 0 to 99\n",
      "Data columns (total 6 columns):\n",
      " #   Column                  Non-Null Count  Dtype   \n",
      "---  ------                  --------------  -----   \n",
      " 0   user_id                 100 non-null    int64   \n",
      " 1   group                   100 non-null    category\n",
      " 2   landing_page            100 non-null    category\n",
      " 3   time_spent_on_the_page  100 non-null    float64 \n",
      " 4   converted               100 non-null    category\n",
      " 5   language_preferred      100 non-null    category\n",
      "dtypes: category(4), float64(1), int64(1)\n",
      "memory usage: 2.5 KB\n"
     ]
    }
   ],
   "source": [
    "copy_df.info()"
   ]
  },
  {
   "cell_type": "code",
   "execution_count": 11,
   "metadata": {},
   "outputs": [
    {
     "data": {
      "text/html": [
       "<div>\n",
       "<style scoped>\n",
       "    .dataframe tbody tr th:only-of-type {\n",
       "        vertical-align: middle;\n",
       "    }\n",
       "\n",
       "    .dataframe tbody tr th {\n",
       "        vertical-align: top;\n",
       "    }\n",
       "\n",
       "    .dataframe thead th {\n",
       "        text-align: right;\n",
       "    }\n",
       "</style>\n",
       "<table border=\"1\" class=\"dataframe\">\n",
       "  <thead>\n",
       "    <tr style=\"text-align: right;\">\n",
       "      <th></th>\n",
       "      <th>user_id</th>\n",
       "      <th>group</th>\n",
       "      <th>landing_page</th>\n",
       "      <th>time_spent_on_the_page</th>\n",
       "      <th>converted</th>\n",
       "      <th>language_preferred</th>\n",
       "    </tr>\n",
       "  </thead>\n",
       "  <tbody>\n",
       "    <tr>\n",
       "      <th>count</th>\n",
       "      <td>100.000000</td>\n",
       "      <td>100</td>\n",
       "      <td>100</td>\n",
       "      <td>100.000000</td>\n",
       "      <td>100</td>\n",
       "      <td>100</td>\n",
       "    </tr>\n",
       "    <tr>\n",
       "      <th>unique</th>\n",
       "      <td>NaN</td>\n",
       "      <td>2</td>\n",
       "      <td>2</td>\n",
       "      <td>NaN</td>\n",
       "      <td>2</td>\n",
       "      <td>3</td>\n",
       "    </tr>\n",
       "    <tr>\n",
       "      <th>top</th>\n",
       "      <td>NaN</td>\n",
       "      <td>treatment</td>\n",
       "      <td>old</td>\n",
       "      <td>NaN</td>\n",
       "      <td>yes</td>\n",
       "      <td>Spanish</td>\n",
       "    </tr>\n",
       "    <tr>\n",
       "      <th>freq</th>\n",
       "      <td>NaN</td>\n",
       "      <td>50</td>\n",
       "      <td>50</td>\n",
       "      <td>NaN</td>\n",
       "      <td>55</td>\n",
       "      <td>34</td>\n",
       "    </tr>\n",
       "    <tr>\n",
       "      <th>mean</th>\n",
       "      <td>546517.000000</td>\n",
       "      <td>NaN</td>\n",
       "      <td>NaN</td>\n",
       "      <td>5.377800</td>\n",
       "      <td>NaN</td>\n",
       "      <td>NaN</td>\n",
       "    </tr>\n",
       "    <tr>\n",
       "      <th>std</th>\n",
       "      <td>52.295779</td>\n",
       "      <td>NaN</td>\n",
       "      <td>NaN</td>\n",
       "      <td>2.378166</td>\n",
       "      <td>NaN</td>\n",
       "      <td>NaN</td>\n",
       "    </tr>\n",
       "    <tr>\n",
       "      <th>min</th>\n",
       "      <td>546443.000000</td>\n",
       "      <td>NaN</td>\n",
       "      <td>NaN</td>\n",
       "      <td>0.190000</td>\n",
       "      <td>NaN</td>\n",
       "      <td>NaN</td>\n",
       "    </tr>\n",
       "    <tr>\n",
       "      <th>25%</th>\n",
       "      <td>546467.750000</td>\n",
       "      <td>NaN</td>\n",
       "      <td>NaN</td>\n",
       "      <td>3.880000</td>\n",
       "      <td>NaN</td>\n",
       "      <td>NaN</td>\n",
       "    </tr>\n",
       "    <tr>\n",
       "      <th>50%</th>\n",
       "      <td>546492.500000</td>\n",
       "      <td>NaN</td>\n",
       "      <td>NaN</td>\n",
       "      <td>5.415000</td>\n",
       "      <td>NaN</td>\n",
       "      <td>NaN</td>\n",
       "    </tr>\n",
       "    <tr>\n",
       "      <th>75%</th>\n",
       "      <td>546567.250000</td>\n",
       "      <td>NaN</td>\n",
       "      <td>NaN</td>\n",
       "      <td>7.022500</td>\n",
       "      <td>NaN</td>\n",
       "      <td>NaN</td>\n",
       "    </tr>\n",
       "    <tr>\n",
       "      <th>max</th>\n",
       "      <td>546592.000000</td>\n",
       "      <td>NaN</td>\n",
       "      <td>NaN</td>\n",
       "      <td>10.710000</td>\n",
       "      <td>NaN</td>\n",
       "      <td>NaN</td>\n",
       "    </tr>\n",
       "  </tbody>\n",
       "</table>\n",
       "</div>"
      ],
      "text/plain": [
       "              user_id      group landing_page  time_spent_on_the_page  \\\n",
       "count      100.000000        100          100              100.000000   \n",
       "unique            NaN          2            2                     NaN   \n",
       "top               NaN  treatment          old                     NaN   \n",
       "freq              NaN         50           50                     NaN   \n",
       "mean    546517.000000        NaN          NaN                5.377800   \n",
       "std         52.295779        NaN          NaN                2.378166   \n",
       "min     546443.000000        NaN          NaN                0.190000   \n",
       "25%     546467.750000        NaN          NaN                3.880000   \n",
       "50%     546492.500000        NaN          NaN                5.415000   \n",
       "75%     546567.250000        NaN          NaN                7.022500   \n",
       "max     546592.000000        NaN          NaN               10.710000   \n",
       "\n",
       "       converted language_preferred  \n",
       "count        100                100  \n",
       "unique         2                  3  \n",
       "top          yes            Spanish  \n",
       "freq          55                 34  \n",
       "mean         NaN                NaN  \n",
       "std          NaN                NaN  \n",
       "min          NaN                NaN  \n",
       "25%          NaN                NaN  \n",
       "50%          NaN                NaN  \n",
       "75%          NaN                NaN  \n",
       "max          NaN                NaN  "
      ]
     },
     "execution_count": 11,
     "metadata": {},
     "output_type": "execute_result"
    }
   ],
   "source": [
    "copy_df.describe(include='all')"
   ]
  },
  {
   "cell_type": "code",
   "execution_count": 12,
   "metadata": {},
   "outputs": [
    {
     "data": {
      "text/html": [
       "<div>\n",
       "<style scoped>\n",
       "    .dataframe tbody tr th:only-of-type {\n",
       "        vertical-align: middle;\n",
       "    }\n",
       "\n",
       "    .dataframe tbody tr th {\n",
       "        vertical-align: top;\n",
       "    }\n",
       "\n",
       "    .dataframe thead th {\n",
       "        text-align: right;\n",
       "    }\n",
       "</style>\n",
       "<table border=\"1\" class=\"dataframe\">\n",
       "  <thead>\n",
       "    <tr style=\"text-align: right;\">\n",
       "      <th></th>\n",
       "      <th>count</th>\n",
       "      <th>mean</th>\n",
       "      <th>std</th>\n",
       "      <th>min</th>\n",
       "      <th>25%</th>\n",
       "      <th>50%</th>\n",
       "      <th>75%</th>\n",
       "      <th>max</th>\n",
       "    </tr>\n",
       "    <tr>\n",
       "      <th>group</th>\n",
       "      <th></th>\n",
       "      <th></th>\n",
       "      <th></th>\n",
       "      <th></th>\n",
       "      <th></th>\n",
       "      <th></th>\n",
       "      <th></th>\n",
       "      <th></th>\n",
       "    </tr>\n",
       "  </thead>\n",
       "  <tbody>\n",
       "    <tr>\n",
       "      <th>control</th>\n",
       "      <td>50.0</td>\n",
       "      <td>4.5324</td>\n",
       "      <td>2.581975</td>\n",
       "      <td>0.19</td>\n",
       "      <td>2.720</td>\n",
       "      <td>4.380</td>\n",
       "      <td>6.4425</td>\n",
       "      <td>10.30</td>\n",
       "    </tr>\n",
       "    <tr>\n",
       "      <th>treatment</th>\n",
       "      <td>50.0</td>\n",
       "      <td>6.2232</td>\n",
       "      <td>1.817031</td>\n",
       "      <td>1.65</td>\n",
       "      <td>5.175</td>\n",
       "      <td>6.105</td>\n",
       "      <td>7.1600</td>\n",
       "      <td>10.71</td>\n",
       "    </tr>\n",
       "  </tbody>\n",
       "</table>\n",
       "</div>"
      ],
      "text/plain": [
       "           count    mean       std   min    25%    50%     75%    max\n",
       "group                                                                \n",
       "control     50.0  4.5324  2.581975  0.19  2.720  4.380  6.4425  10.30\n",
       "treatment   50.0  6.2232  1.817031  1.65  5.175  6.105  7.1600  10.71"
      ]
     },
     "execution_count": 12,
     "metadata": {},
     "output_type": "execute_result"
    }
   ],
   "source": [
    "# Analyze the mean time spent on the page from each group\n",
    "copy_df.groupby('group')['time_spent_on_the_page'].describe()"
   ]
  },
  {
   "cell_type": "code",
   "execution_count": 158,
   "metadata": {},
   "outputs": [
    {
     "data": {
      "text/html": [
       "<div>\n",
       "<style scoped>\n",
       "    .dataframe tbody tr th:only-of-type {\n",
       "        vertical-align: middle;\n",
       "    }\n",
       "\n",
       "    .dataframe tbody tr th {\n",
       "        vertical-align: top;\n",
       "    }\n",
       "\n",
       "    .dataframe thead th {\n",
       "        text-align: right;\n",
       "    }\n",
       "</style>\n",
       "<table border=\"1\" class=\"dataframe\">\n",
       "  <thead>\n",
       "    <tr style=\"text-align: right;\">\n",
       "      <th></th>\n",
       "      <th>count</th>\n",
       "      <th>unique</th>\n",
       "      <th>top</th>\n",
       "      <th>freq</th>\n",
       "    </tr>\n",
       "    <tr>\n",
       "      <th>group</th>\n",
       "      <th></th>\n",
       "      <th></th>\n",
       "      <th></th>\n",
       "      <th></th>\n",
       "    </tr>\n",
       "  </thead>\n",
       "  <tbody>\n",
       "    <tr>\n",
       "      <th>control</th>\n",
       "      <td>50</td>\n",
       "      <td>2</td>\n",
       "      <td>no</td>\n",
       "      <td>27</td>\n",
       "    </tr>\n",
       "    <tr>\n",
       "      <th>treatment</th>\n",
       "      <td>50</td>\n",
       "      <td>2</td>\n",
       "      <td>yes</td>\n",
       "      <td>32</td>\n",
       "    </tr>\n",
       "  </tbody>\n",
       "</table>\n",
       "</div>"
      ],
      "text/plain": [
       "          count unique  top freq\n",
       "group                           \n",
       "control      50      2   no   27\n",
       "treatment    50      2  yes   32"
      ]
     },
     "execution_count": 158,
     "metadata": {},
     "output_type": "execute_result"
    }
   ],
   "source": [
    "# Analyze the frequency in which each group converts to subscribers\n",
    "copy_df.groupby('group')['convert'].describe()"
   ]
  },
  {
   "cell_type": "markdown",
   "metadata": {},
   "source": [
    "##### Observations\n",
    "- Most users speak Spanish.\n",
    "- The average time users spend on the website is 2.377 minutes.\n",
    "- The min time users spend on the website is 0.19 minutes.\n",
    "- The max time users spend on the website is 10.71 minutes.\n",
    "- The mean time spent from group control is 4.53 minutes.\n",
    "- The mean time spent from group treatment is 6.22 minutes. \n",
    "- Out of the 50 users in the control group 27 are NOT converting to subscribers.\n",
    "- Out of the 50 users in the treatment group 32 are converting to subscribers."
   ]
  },
  {
   "cell_type": "markdown",
   "metadata": {},
   "source": [
    "## EDA\n",
    "### Univariate Graph Analysis"
   ]
  },
  {
   "cell_type": "code",
   "execution_count": 14,
   "metadata": {},
   "outputs": [
    {
     "data": {
      "image/png": "[encoded data removed]",
      "text/plain": [
       "<Figure size 432x360 with 1 Axes>"
      ]
     },
     "metadata": {},
     "output_type": "display_data"
    }
   ],
   "source": [
    "#Analysis for converted\n",
    "#Function to annotate the percentage for data in x-axis\n",
    "def var_perc (plot, feature):\n",
    "    total = len(feature)\n",
    "    for p in ax.patches:\n",
    "        percentage = '{:.1f}%'.format(100 * p.get_height()/total)\n",
    "        x=p.get_x() + p.get_width()/2-0.05\n",
    "        y=p.get_y() + p.get_height()\n",
    "        ax.annotate(percentage, (x,y), size =15)\n",
    "        \n",
    "plt.figure(figsize=(6,5))\n",
    "ax = sns.countplot(copy_df['converted'], palette=\"gnuplot_r\");\n",
    "var_perc(ax, copy_df['converted']);"
   ]
  },
  {
   "cell_type": "code",
   "execution_count": 15,
   "metadata": {},
   "outputs": [
    {
     "data": {
      "image/png": "[encoded data removed]",
      "text/plain": [
       "<Figure size 432x360 with 1 Axes>"
      ]
     },
     "metadata": {},
     "output_type": "display_data"
    }
   ],
   "source": [
    "#Analysis for language preferred\n",
    "plt.figure(figsize=(6,5))\n",
    "ax = sns.countplot(copy_df['language_preferred'], palette=\"gnuplot\");\n",
    "var_perc(ax, copy_df['language_preferred'])"
   ]
  },
  {
   "cell_type": "code",
   "execution_count": 16,
   "metadata": {},
   "outputs": [
    {
     "data": {
      "image/png": "[encoded data removed]",
      "text/plain": [
       "<Figure size 432x360 with 1 Axes>"
      ]
     },
     "metadata": {},
     "output_type": "display_data"
    },
    {
     "data": {
      "image/png": "[encoded data removed]",
      "text/plain": [
       "<Figure size 360x360 with 1 Axes>"
      ]
     },
     "metadata": {},
     "output_type": "display_data"
    }
   ],
   "source": [
    "#Analysis for group and landing page\n",
    "plt.figure(figsize=(6,5))\n",
    "ax = sns.countplot(copy_df['group'], palette=\"gnuplot_r\")\n",
    "var_perc(ax, copy_df['group'])\n",
    "\n",
    "sns.displot(copy_df['landing_page'], kde=True);"
   ]
  },
  {
   "cell_type": "markdown",
   "metadata": {},
   "source": [
    "##### Obervations\n",
    "- 55% of users from both groups are converting to subscribers to the channel.\n",
    "- 34% of the users from both groups speak French.\n",
    "- 34% of the users from both groups speak Spanish.\n",
    "- Spanish and French are the preferred languages.\n",
    "- As specified the users in group column are 50% control and 50% treatment.\n",
    "- As specified the users in landing_page column are also 50 users new and 50 users old."
   ]
  },
  {
   "cell_type": "markdown",
   "metadata": {},
   "source": [
    "### Bivariate Graph Analysis"
   ]
  },
  {
   "cell_type": "code",
   "execution_count": 17,
   "metadata": {},
   "outputs": [
    {
     "data": {
      "image/png": "[encoded data removed]",
      "text/plain": [
       "<Figure size 1440x720 with 1 Axes>"
      ]
     },
     "metadata": {},
     "output_type": "display_data"
    }
   ],
   "source": [
    "# Analysis between landing page and converted\n",
    "plt.figure(figsize=(20,10))\n",
    "sns.boxplot(copy_df['user_id'], copy_df['group'], linewidth=2, palette='gnuplot');\n",
    "plt.xlabel('User ID');\n",
    "plt.ylabel('Group');"
   ]
  },
  {
   "cell_type": "markdown",
   "metadata": {},
   "source": [
    "##### Observations\n",
    "- Users with ID numbers between 546440 and 546490 belong to the treatment group. \n",
    "- Users with ID numbers between 546540 and 546590 belong to the control group. "
   ]
  },
  {
   "cell_type": "code",
   "execution_count": 18,
   "metadata": {},
   "outputs": [
    {
     "data": {
      "image/png": "[encoded data removed]",
      "text/plain": [
       "<Figure size 1440x504 with 1 Axes>"
      ]
     },
     "metadata": {},
     "output_type": "display_data"
    }
   ],
   "source": [
    "# Analysis between user_id and landing_page\n",
    "plt.figure(figsize=(20, 7))\n",
    "sns.boxplot(copy_df['user_id'], copy_df['landing_page'], linewidth=2, palette='gnuplot');\n",
    "plt.xlabel('User ID');\n",
    "plt.ylabel('Landing Page');"
   ]
  },
  {
   "cell_type": "markdown",
   "metadata": {},
   "source": [
    "##### Observations\n",
    "- Users with ID between 546440 and 546490 (belong to the treatment group) and are using the new landing page.\n",
    "- Users with ID between 546540 and 546590 (belong to the control group) and are using the old landing page."
   ]
  },
  {
   "cell_type": "code",
   "execution_count": 19,
   "metadata": {},
   "outputs": [
    {
     "data": {
      "image/png": "[encoded data removed]",
      "text/plain": [
       "<Figure size 1440x504 with 1 Axes>"
      ]
     },
     "metadata": {},
     "output_type": "display_data"
    }
   ],
   "source": [
    "# Analysis between user_id and converted\n",
    "plt.figure(figsize=(20, 7))\n",
    "sns.boxplot(copy_df['user_id'], copy_df['converted'], linewidth=2, palette='gnuplot_r');\n",
    "plt.xlabel('User ID');\n",
    "plt.ylabel('Converted');"
   ]
  },
  {
   "cell_type": "markdown",
   "metadata": {},
   "source": [
    "##### Observations\n",
    "- Users with ID between 546465 and 546559 belong mostly to the treatment group using the new landing page, the graph reflects they are converting to usbscribers.\n",
    "- Users with ID between 546480 and 546590 belong mostly to the control group using the old landing page, the graph reflects they are not converting to subscribers. "
   ]
  },
  {
   "cell_type": "code",
   "execution_count": 20,
   "metadata": {},
   "outputs": [
    {
     "data": {
      "image/png": "[encoded data removed]",
      "text/plain": [
       "<Figure size 432x360 with 1 Axes>"
      ]
     },
     "metadata": {},
     "output_type": "display_data"
    }
   ],
   "source": [
    "# Analysis between group and time_spent_on_the_page \n",
    "plt.figure(figsize=(6, 5))\n",
    "sns.boxplot(copy_df['group'], copy_df['time_spent_on_the_page'], linewidth=2, palette='gnuplot');\n",
    "plt.xlabel('Group');\n",
    "plt.ylabel('Time Spent on the Page');"
   ]
  },
  {
   "cell_type": "markdown",
   "metadata": {},
   "source": [
    "##### Observations\n",
    "- The median for group control is at around 4.5 minutes.\n",
    "- The median for group treatment is at around 6.2 minutes.\n",
    "- The median for group treatment is higher than the median for group control.\n",
    "- Users in the treatment group are spending more time in the new landing page."
   ]
  },
  {
   "cell_type": "code",
   "execution_count": 21,
   "metadata": {},
   "outputs": [
    {
     "data": {
      "image/png": "[encoded data removed]",
      "text/plain": [
       "<Figure size 662.475x288 with 1 Axes>"
      ]
     },
     "metadata": {},
     "output_type": "display_data"
    }
   ],
   "source": [
    "# Analysis fon control and treatment group's Density\n",
    "abtest = copy_df\n",
    "sns.displot(data=abtest, x=\"time_spent_on_the_page\", hue=\"group\", kde=True, height=4, aspect=2);\n",
    "plt.xlabel('Time Spent on the Page');"
   ]
  },
  {
   "cell_type": "markdown",
   "metadata": {},
   "source": [
    "##### Obervations\n",
    "- Users are spending more time on the new landing page (treatment group).\n",
    "- The control group’s distribution is skewed to the left. \n",
    "- The treatment group’s distribution is skewed slightly to the right."
   ]
  },
  {
   "cell_type": "code",
   "execution_count": 159,
   "metadata": {},
   "outputs": [
    {
     "data": {
      "image/png": "[encoded data removed]",
      "text/plain": [
       "<Figure size 656.425x288 with 1 Axes>"
      ]
     },
     "metadata": {},
     "output_type": "display_data"
    }
   ],
   "source": [
    "# Analysis for converted and landing_page\n",
    "abtest = copy_df\n",
    "sns.displot(data=abtest, x=\"converted\", hue=\"landing_page\", kde=False, height=4, aspect=2);\n",
    "plt.xlabel('Converted');"
   ]
  },
  {
   "cell_type": "code",
   "execution_count": 82,
   "metadata": {},
   "outputs": [
    {
     "data": {
      "image/png": "[encoded data removed]",
      "text/plain": [
       "<Figure size 637.55x288 with 1 Axes>"
      ]
     },
     "metadata": {},
     "output_type": "display_data"
    }
   ],
   "source": [
    "# Analysis for language_preferred and converted\n",
    "abtest = copy_df\n",
    "ax = sns.displot(data=abtest, x=\"language_preferred\", hue=\"converted\", multiple=\"dodge\", \n",
    "            kde=False, height=4, aspect=2);\n",
    "plt.xlabel('Language Preferred');"
   ]
  },
  {
   "cell_type": "markdown",
   "metadata": {},
   "source": [
    "##### Observations\n",
    "- Users that speak English is the largest group converting to subscribers. Followed by users that speak Spanish.\n",
    "- Users that speak French have the lowest conversion rate relative to other language users. "
   ]
  },
  {
   "cell_type": "markdown",
   "metadata": {},
   "source": [
    "### Multi-Variate Graph Analysis"
   ]
  },
  {
   "cell_type": "code",
   "execution_count": 23,
   "metadata": {},
   "outputs": [
    {
     "data": {
      "image/png": "[encoded data removed]",
      "text/plain": [
       "<Figure size 720x504 with 1 Axes>"
      ]
     },
     "metadata": {},
     "output_type": "display_data"
    }
   ],
   "source": [
    "# Analysis for time_spent_on_the_page/group/converted\n",
    "plt.figure(figsize=(10,7))\n",
    "sns.boxplot(copy_df['group'], copy_df['time_spent_on_the_page'], copy_df['converted'], linewidth=2, palette='gnuplot_r');\n",
    "plt.xlabel('Group');\n",
    "plt.ylabel('Time Spent on the Page');"
   ]
  },
  {
   "cell_type": "markdown",
   "metadata": {},
   "source": [
    "##### Observations\n",
    "- Users in the control group that were not converted into subsribers have the lowest median.\n",
    "- Most users in the control group that were converted into subscribers spent between 4.3 and 6.5 minutes on the old landing page.\n",
    "- The control group has a lower median and more variability in their mean values. \n",
    "- The treatment group has the highest median, and less variability in their mean values.  "
   ]
  },
  {
   "cell_type": "code",
   "execution_count": 24,
   "metadata": {},
   "outputs": [
    {
     "data": {
      "image/png": "[encoded data removed]",
      "text/plain": [
       "<Figure size 720x360 with 1 Axes>"
      ]
     },
     "metadata": {},
     "output_type": "display_data"
    }
   ],
   "source": [
    "# Analysis between time_spent_on_the_page/language_preferred/group\n",
    "plt.figure(figsize=(10,5))\n",
    "sns.boxplot(copy_df['language_preferred'], copy_df['time_spent_on_the_page'], copy_df['group'], linewidth=2, palette='gnuplot');\n",
    "plt.xlabel('Language Preferred');\n",
    "plt.ylabel('Time Spent on the Page');"
   ]
  },
  {
   "cell_type": "markdown",
   "metadata": {},
   "source": [
    "##### Obervations\n",
    "- The median for control group and English speaking users is the lowest amongst all languages.\n",
    "- The median for treatment group and English speaking users is the highest amongst all languages.\n",
    "- Users that speak English that are part of treatment group are spending the most time on the new landing page."
   ]
  },
  {
   "cell_type": "code",
   "execution_count": 162,
   "metadata": {},
   "outputs": [
    {
     "data": {
      "image/png": "[encoded data removed]",
      "text/plain": [
       "<Figure size 720x360 with 1 Axes>"
      ]
     },
     "metadata": {},
     "output_type": "display_data"
    }
   ],
   "source": [
    "# Analysis between time_spent_on_the_page/language_preferred/converted\n",
    "plt.figure(figsize=(10,5)) \n",
    "sns.boxplot(copy_df['language_preferred'], copy_df['time_spent_on_the_page'], copy_df['converted'], linewidth=2, palette='gnuplot'); plt.xlabel('Language Preferred');\n",
    "plt.ylabel('Time Spent on the Page');"
   ]
  },
  {
   "cell_type": "markdown",
   "metadata": {},
   "source": [
    "##### Observations\n",
    "- Users that did not convert to subscribers have the lowest median between all preferred languages.\n",
    "- Users that speak English and did not convert to subscribers have the lowest median across all values.\n",
    "- Users that speak Spanish and converted to subscribers have the highest median of aproximately 6.4 minutes spent on the landing page.\n"
   ]
  },
  {
   "cell_type": "markdown",
   "metadata": {},
   "source": [
    "### Two Independent Sample T-Test \n",
    "### Users spend more time on the new or old landing page?\n",
    "#### Null and Alternate Hypothesis Definition\n",
    "Let $\\mu_1, \\mu_2$, be the mean (average) time users spend on the old landing page and the new landing page respectively.\n",
    "\n",
    "$\\mu_1$= old landing page.\n",
    "\n",
    "$\\mu_2$= new landing page.\n",
    "\n",
    "The null hypothesis\n",
    ">$H_0:\\mu_1 = \\mu_2$\n",
    "\n",
    "The alternate hypothesis\n",
    ">$H_a:\\mu_1<\\mu_2$"
   ]
  },
  {
   "cell_type": "code",
   "execution_count": 26,
   "metadata": {},
   "outputs": [
    {
     "data": {
      "text/html": [
       "<div>\n",
       "<style scoped>\n",
       "    .dataframe tbody tr th:only-of-type {\n",
       "        vertical-align: middle;\n",
       "    }\n",
       "\n",
       "    .dataframe tbody tr th {\n",
       "        vertical-align: top;\n",
       "    }\n",
       "\n",
       "    .dataframe thead th {\n",
       "        text-align: right;\n",
       "    }\n",
       "</style>\n",
       "<table border=\"1\" class=\"dataframe\">\n",
       "  <thead>\n",
       "    <tr style=\"text-align: right;\">\n",
       "      <th></th>\n",
       "      <th>user_id</th>\n",
       "      <th>group</th>\n",
       "      <th>landing_page</th>\n",
       "      <th>time_spent_on_the_page</th>\n",
       "      <th>converted</th>\n",
       "      <th>language_preferred</th>\n",
       "    </tr>\n",
       "  </thead>\n",
       "  <tbody>\n",
       "    <tr>\n",
       "      <th>0</th>\n",
       "      <td>546592</td>\n",
       "      <td>control</td>\n",
       "      <td>old</td>\n",
       "      <td>3.48</td>\n",
       "      <td>yes</td>\n",
       "      <td>Spanish</td>\n",
       "    </tr>\n",
       "    <tr>\n",
       "      <th>1</th>\n",
       "      <td>546468</td>\n",
       "      <td>treatment</td>\n",
       "      <td>new</td>\n",
       "      <td>7.13</td>\n",
       "      <td>yes</td>\n",
       "      <td>English</td>\n",
       "    </tr>\n",
       "    <tr>\n",
       "      <th>2</th>\n",
       "      <td>546462</td>\n",
       "      <td>treatment</td>\n",
       "      <td>new</td>\n",
       "      <td>4.40</td>\n",
       "      <td>no</td>\n",
       "      <td>Spanish</td>\n",
       "    </tr>\n",
       "    <tr>\n",
       "      <th>3</th>\n",
       "      <td>546567</td>\n",
       "      <td>control</td>\n",
       "      <td>old</td>\n",
       "      <td>3.02</td>\n",
       "      <td>no</td>\n",
       "      <td>French</td>\n",
       "    </tr>\n",
       "    <tr>\n",
       "      <th>4</th>\n",
       "      <td>546459</td>\n",
       "      <td>treatment</td>\n",
       "      <td>new</td>\n",
       "      <td>4.75</td>\n",
       "      <td>yes</td>\n",
       "      <td>Spanish</td>\n",
       "    </tr>\n",
       "  </tbody>\n",
       "</table>\n",
       "</div>"
      ],
      "text/plain": [
       "   user_id      group landing_page  time_spent_on_the_page converted  \\\n",
       "0   546592    control          old                    3.48       yes   \n",
       "1   546468  treatment          new                    7.13       yes   \n",
       "2   546462  treatment          new                    4.40        no   \n",
       "3   546567    control          old                    3.02        no   \n",
       "4   546459  treatment          new                    4.75       yes   \n",
       "\n",
       "  language_preferred  \n",
       "0            Spanish  \n",
       "1            English  \n",
       "2            Spanish  \n",
       "3             French  \n",
       "4            Spanish  "
      ]
     },
     "execution_count": 26,
     "metadata": {},
     "output_type": "execute_result"
    }
   ],
   "source": [
    "# Quick look on the sample data\n",
    "abtest=pd.read_csv('abtest.csv')\n",
    "abtest.head()"
   ]
  },
  {
   "cell_type": "code",
   "execution_count": 27,
   "metadata": {},
   "outputs": [
    {
     "name": "stdout",
     "output_type": "stream",
     "text": [
      "The mean time spent on the page is 5.377800000000002\n",
      "The standard deviation for time spent on the page is 2.378166078933492\n"
     ]
    }
   ],
   "source": [
    "#find the sample mean and sample standard deviation for time_spent_on_the_page\n",
    "print('The mean time spent on the page is '+ str(abtest['time_spent_on_the_page'].mean()))\n",
    "print('The standard deviation for time spent on the page is ' + str(abtest['time_spent_on_the_page'].std()))"
   ]
  },
  {
   "cell_type": "markdown",
   "metadata": {},
   "source": [
    "#### Test whether the T-Test assumptions are satisfied or not\n",
    "- Continuous data - yes, the time spent on the page is measured in a continuous scale.\n",
    "- Normally distributed populations - the treatment group is normally distributed.\n",
    "- Independent populations - we were given random samples for the two groups, the two samples are from two independent populations.\n",
    "- Unequal population standard deviations - unknown std for each group. The population standard deviations may be assumed to be different.\n",
    "- Random sampling from the population - yes, the collected sample was chosen from a random sample.\n",
    "\n",
    "We can user T-Test for this problem.\n",
    "\n",
    "### Finding the p-value"
   ]
  },
  {
   "cell_type": "code",
   "execution_count": 28,
   "metadata": {
    "scrolled": true
   },
   "outputs": [
    {
     "name": "stdout",
     "output_type": "stream",
     "text": [
      "The calculated t-statistic is: -104396.074690387\n",
      "The p-value is: 0.0\n"
     ]
    }
   ],
   "source": [
    "# import scipy function for T-Test\n",
    "from scipy.stats import ttest_ind\n",
    "\n",
    "a= abtest['time_spent_on_the_page']\n",
    "b= abtest['user_id']\n",
    "t_stat, p_value = ttest_ind(a, b, equal_var=False, alternative='less')\n",
    "\n",
    "print('The calculated t-statistic is: ' + str(t_stat))\n",
    "print('The p-value is: ' +str(p_value))\n",
    "\n",
    "#copy_df.groupby('group')['time_spent_on_the_page'].describe()"
   ]
  },
  {
   "cell_type": "markdown",
   "metadata": {},
   "source": [
    "##### Obervation\n",
    "- As the p-value (~0.0001) is less than the level of significance (0.05), we can reject the null hypothesis. Therefore, we can reject the null hypothesis and claim the mean time users spent on the new landing page is greater than the time users spent on the old landing page."
   ]
  },
  {
   "cell_type": "markdown",
   "metadata": {},
   "source": [
    "### Two Proportion Z-Test\n",
    "### What conversion rate is greater? for the new or the old landing page\n",
    "#### Null and Alternative Hypothesis Definition\n",
    "Let $p_1, p_2$ be the proportions of users who visit the landing page and get converted to subscribers on the old landing page and new landing page respectively.\n",
    "\n",
    "$p_1$= old landing page.\n",
    "\n",
    "$p_2$= new landing page.\n",
    "\n",
    "Null Hypothesis\n",
    ">$H_0:p_1 \\geq p_2$\n",
    "\n",
    "Alternate Hypothesis\n",
    ">$H_a:p_1 <p_2$\n"
   ]
  },
  {
   "cell_type": "markdown",
   "metadata": {},
   "source": [
    "#### Test whether the Z-Test assumptions are satisfied or not\n",
    "- Binomally distributed population - Yes, the users are testing either the new landing page or the old landing page.\n",
    "- Random sampling from population - Yes, it is confirmed the two groups selected are a simple random sample.\n",
    "- Can the binomial distribution approximated to normal distribution - Yes \n",
    ">$np_1 = 23\\cdot \\frac{50}{23} =50 \\geq 10\\\\\n",
    "n(1-p_1) = 23 \\cdot \\frac{23-50}{23} =479 \\geq 10 \\\\\n",
    "np_2 = 32\\cdot \\frac{50}{32} =50 \\geq 10\\\\\n",
    "n(1-p_2) = 32 \\cdot \\frac{32-50}{32} =974 \\geq 10 $\n",
    "\n",
    "### Finding the p-value"
   ]
  },
  {
   "cell_type": "code",
   "execution_count": 29,
   "metadata": {},
   "outputs": [
    {
     "name": "stdout",
     "output_type": "stream",
     "text": [
      "The calculated t-statistic is: -1.8090680674665816\n",
      "The p-value is: 0.07044042927208799\n"
     ]
    }
   ],
   "source": [
    "# import function for proportions Z-Test\n",
    "from statsmodels.stats.proportion import proportions_ztest\n",
    "\n",
    "# set the counts for conversions for old landind page and new landing page\n",
    "conv_count= np.array([23,32])\n",
    "\n",
    "# set the sample sizes\n",
    "nobs = np.array([50, 50])\n",
    "\n",
    "# find p-value\n",
    "t_stat, p_value = proportions_ztest(conv_count, nobs)\n",
    "print('The calculated t-statistic is: ' + str(t_stat))\n",
    "print('The p-value is: ' + str(p_value))"
   ]
  },
  {
   "cell_type": "markdown",
   "metadata": {},
   "source": [
    "##### Observations\n",
    "- As the p-value (0.0704) is greater than the level of significance (0.05), we can not reject the null hypothesis. Therefore, we do not have enough statistical significance to conclude that the old page has less conversions than the new."
   ]
  },
  {
   "cell_type": "markdown",
   "metadata": {},
   "source": [
    "### Chi-Square Test for Independence\n",
    "### Does the converted status depend on the preferred language?\n",
    "#### Null and Alternative Hypothesis\n",
    "\n",
    "Null Hypothesis\n",
    ">$H_0:$ = The conversion rate is independent on the preferred language.\n",
    "\n",
    "Against the alternate Hypothesis\n",
    ">$H_a:$ The converstion rate depends on the preferred language.\n"
   ]
  },
  {
   "cell_type": "markdown",
   "metadata": {},
   "source": [
    "#### Test whether the assumptions are satisfied or not\n",
    "- Categorical variables - Yes\n",
    "- Expected value of the number of sample observations in each level of the variable is at least 5 - Yes, the total of rows*columns is greater than 5.\n",
    "- Random sampling from the population - Yes, it is confirmed the two groups selected are a simple random sample."
   ]
  },
  {
   "cell_type": "code",
   "execution_count": 59,
   "metadata": {},
   "outputs": [
    {
     "data": {
      "text/html": [
       "<div>\n",
       "<style scoped>\n",
       "    .dataframe tbody tr th:only-of-type {\n",
       "        vertical-align: middle;\n",
       "    }\n",
       "\n",
       "    .dataframe tbody tr th {\n",
       "        vertical-align: top;\n",
       "    }\n",
       "\n",
       "    .dataframe thead th {\n",
       "        text-align: right;\n",
       "    }\n",
       "</style>\n",
       "<table border=\"1\" class=\"dataframe\">\n",
       "  <thead>\n",
       "    <tr style=\"text-align: right;\">\n",
       "      <th>language_preferred</th>\n",
       "      <th>English</th>\n",
       "      <th>French</th>\n",
       "      <th>Spanish</th>\n",
       "    </tr>\n",
       "    <tr>\n",
       "      <th>converted</th>\n",
       "      <th></th>\n",
       "      <th></th>\n",
       "      <th></th>\n",
       "    </tr>\n",
       "  </thead>\n",
       "  <tbody>\n",
       "    <tr>\n",
       "      <th>no</th>\n",
       "      <td>12</td>\n",
       "      <td>17</td>\n",
       "      <td>16</td>\n",
       "    </tr>\n",
       "    <tr>\n",
       "      <th>yes</th>\n",
       "      <td>20</td>\n",
       "      <td>17</td>\n",
       "      <td>18</td>\n",
       "    </tr>\n",
       "  </tbody>\n",
       "</table>\n",
       "</div>"
      ],
      "text/plain": [
       "language_preferred  English  French  Spanish\n",
       "converted                                   \n",
       "no                       12      17       16\n",
       "yes                      20      17       18"
      ]
     },
     "execution_count": 59,
     "metadata": {},
     "output_type": "execute_result"
    }
   ],
   "source": [
    "# Analysis to see all converted and preferred language users\n",
    "all_data = pd.crosstab(abtest['converted'], abtest['language_preferred']) \n",
    "all_data"
   ]
  },
  {
   "cell_type": "code",
   "execution_count": 163,
   "metadata": {},
   "outputs": [
    {
     "data": {
      "text/html": [
       "<div>\n",
       "<style scoped>\n",
       "    .dataframe tbody tr th:only-of-type {\n",
       "        vertical-align: middle;\n",
       "    }\n",
       "\n",
       "    .dataframe tbody tr th {\n",
       "        vertical-align: top;\n",
       "    }\n",
       "\n",
       "    .dataframe thead tr th {\n",
       "        text-align: left;\n",
       "    }\n",
       "\n",
       "    .dataframe thead tr:last-of-type th {\n",
       "        text-align: right;\n",
       "    }\n",
       "</style>\n",
       "<table border=\"1\" class=\"dataframe\">\n",
       "  <thead>\n",
       "    <tr>\n",
       "      <th>converted</th>\n",
       "      <th colspan=\"2\" halign=\"left\">no</th>\n",
       "      <th colspan=\"2\" halign=\"left\">yes</th>\n",
       "      <th>Total</th>\n",
       "    </tr>\n",
       "    <tr>\n",
       "      <th>group</th>\n",
       "      <th>control</th>\n",
       "      <th>treatment</th>\n",
       "      <th>control</th>\n",
       "      <th>treatment</th>\n",
       "      <th></th>\n",
       "    </tr>\n",
       "    <tr>\n",
       "      <th>language_preferred</th>\n",
       "      <th></th>\n",
       "      <th></th>\n",
       "      <th></th>\n",
       "      <th></th>\n",
       "      <th></th>\n",
       "    </tr>\n",
       "  </thead>\n",
       "  <tbody>\n",
       "    <tr>\n",
       "      <th>English</th>\n",
       "      <td>5</td>\n",
       "      <td>7</td>\n",
       "      <td>11</td>\n",
       "      <td>9</td>\n",
       "      <td>32</td>\n",
       "    </tr>\n",
       "    <tr>\n",
       "      <th>French</th>\n",
       "      <td>13</td>\n",
       "      <td>4</td>\n",
       "      <td>4</td>\n",
       "      <td>13</td>\n",
       "      <td>34</td>\n",
       "    </tr>\n",
       "    <tr>\n",
       "      <th>Spanish</th>\n",
       "      <td>9</td>\n",
       "      <td>7</td>\n",
       "      <td>8</td>\n",
       "      <td>10</td>\n",
       "      <td>34</td>\n",
       "    </tr>\n",
       "    <tr>\n",
       "      <th>Total</th>\n",
       "      <td>27</td>\n",
       "      <td>18</td>\n",
       "      <td>23</td>\n",
       "      <td>32</td>\n",
       "      <td>100</td>\n",
       "    </tr>\n",
       "  </tbody>\n",
       "</table>\n",
       "</div>"
      ],
      "text/plain": [
       "converted               no               yes           Total\n",
       "group              control treatment control treatment      \n",
       "language_preferred                                          \n",
       "English                  5         7      11         9    32\n",
       "French                  13         4       4        13    34\n",
       "Spanish                  9         7       8        10    34\n",
       "Total                   27        18      23        32   100"
      ]
     },
     "execution_count": 163,
     "metadata": {},
     "output_type": "execute_result"
    }
   ],
   "source": [
    "# Analysis to see especifically which group converted based on preferred language with total\n",
    "group_data_total = pd.crosstab(abtest.language_preferred,[abtest.converted, abtest.group], margins=True, margins_name=\"Total\")\n",
    "\n",
    "group_data_total"
   ]
  },
  {
   "cell_type": "code",
   "execution_count": 94,
   "metadata": {},
   "outputs": [
    {
     "data": {
      "text/html": [
       "<div>\n",
       "<style scoped>\n",
       "    .dataframe tbody tr th:only-of-type {\n",
       "        vertical-align: middle;\n",
       "    }\n",
       "\n",
       "    .dataframe tbody tr th {\n",
       "        vertical-align: top;\n",
       "    }\n",
       "\n",
       "    .dataframe thead tr th {\n",
       "        text-align: left;\n",
       "    }\n",
       "\n",
       "    .dataframe thead tr:last-of-type th {\n",
       "        text-align: right;\n",
       "    }\n",
       "</style>\n",
       "<table border=\"1\" class=\"dataframe\">\n",
       "  <thead>\n",
       "    <tr>\n",
       "      <th>converted</th>\n",
       "      <th colspan=\"2\" halign=\"left\">no</th>\n",
       "      <th colspan=\"2\" halign=\"left\">yes</th>\n",
       "    </tr>\n",
       "    <tr>\n",
       "      <th>group</th>\n",
       "      <th>control</th>\n",
       "      <th>treatment</th>\n",
       "      <th>control</th>\n",
       "      <th>treatment</th>\n",
       "    </tr>\n",
       "    <tr>\n",
       "      <th>language_preferred</th>\n",
       "      <th></th>\n",
       "      <th></th>\n",
       "      <th></th>\n",
       "      <th></th>\n",
       "    </tr>\n",
       "  </thead>\n",
       "  <tbody>\n",
       "    <tr>\n",
       "      <th>English</th>\n",
       "      <td>5</td>\n",
       "      <td>7</td>\n",
       "      <td>11</td>\n",
       "      <td>9</td>\n",
       "    </tr>\n",
       "    <tr>\n",
       "      <th>French</th>\n",
       "      <td>13</td>\n",
       "      <td>4</td>\n",
       "      <td>4</td>\n",
       "      <td>13</td>\n",
       "    </tr>\n",
       "    <tr>\n",
       "      <th>Spanish</th>\n",
       "      <td>9</td>\n",
       "      <td>7</td>\n",
       "      <td>8</td>\n",
       "      <td>10</td>\n",
       "    </tr>\n",
       "  </tbody>\n",
       "</table>\n",
       "</div>"
      ],
      "text/plain": [
       "converted               no               yes          \n",
       "group              control treatment control treatment\n",
       "language_preferred                                    \n",
       "English                  5         7      11         9\n",
       "French                  13         4       4        13\n",
       "Spanish                  9         7       8        10"
      ]
     },
     "execution_count": 94,
     "metadata": {},
     "output_type": "execute_result"
    }
   ],
   "source": [
    "# Analysis to see especifically which group converted based on preferred language\n",
    "group_data = pd.crosstab(abtest.language_preferred,[abtest.converted, abtest.group])\n",
    "group_data"
   ]
  },
  {
   "cell_type": "markdown",
   "metadata": {},
   "source": [
    "### Finding the p-value"
   ]
  },
  {
   "cell_type": "code",
   "execution_count": 95,
   "metadata": {},
   "outputs": [
    {
     "name": "stdout",
     "output_type": "stream",
     "text": [
      "The p-value for all_data is 0.5686624745121615\n"
     ]
    }
   ],
   "source": [
    "# import the required function\n",
    "from scipy.stats import chi2_contingency\n",
    "\n",
    "# find the p-value for all_data\n",
    "chi, p_value, dof, expected = chi2_contingency(all_data)\n",
    "print('The p-value for all_data is', p_value)"
   ]
  },
  {
   "cell_type": "code",
   "execution_count": 89,
   "metadata": {},
   "outputs": [
    {
     "name": "stdout",
     "output_type": "stream",
     "text": [
      "The p-value for group_data is  0.19992065895813813\n"
     ]
    }
   ],
   "source": [
    "# find the p-value for group_data\n",
    "chi, p_value, dof, expected = chi2_contingency(group_data)\n",
    "print('The p-value for group_data is ', p_value) "
   ]
  },
  {
   "cell_type": "markdown",
   "metadata": {},
   "source": [
    "##### Observations\n",
    "- The p-value for all_data (the converted ratio for preferred language) is greater (0.568) than the level of significance (0.05). Therefore, we fail to reject the null hypothesis. We do not have enough evidence to say that the conversion rate depends on the preferred language. \n",
    "- The p-value for group_data (the converted ratio for users in both groups treatment and control, the value we are selecting) is greater (0.199) than the level of significance (0.05). Therefore, we fail to reject the null hypothesis. We do not have enought evidence to say that the conversion rate depends on the preferred language. "
   ]
  },
  {
   "cell_type": "markdown",
   "metadata": {},
   "source": [
    "### One-Way Anova F-Test\n",
    "### Is the mean time spent on the new page same for the different language users?\n",
    "Let $\\mu_1, \\mu_2, \\mu_3$ be the means of time spent on either the new or the old page, for the preferred language English, French and Spanish respectively.\n",
    "\n",
    "$\\mu_1$ = English\n",
    "$\\mu_2$ = French\n",
    "$\\mu_3$ = Spanish\n",
    "\n",
    "Null Hypothesis\n",
    ">$H_0: \\mu_1 = \\mu_2 = \\mu_3$\n",
    "\n",
    "Alternative Hypothesis\n",
    ">$H_a:$ At least one mean time spent either the new page or the old page, is different from the rest"
   ]
  },
  {
   "cell_type": "code",
   "execution_count": 126,
   "metadata": {},
   "outputs": [
    {
     "data": {
      "text/plain": [
       "group      language_preferred\n",
       "control    French                17\n",
       "           Spanish               17\n",
       "           English               16\n",
       "treatment  French                17\n",
       "           Spanish               17\n",
       "           English               16\n",
       "Name: language_preferred, dtype: int64"
      ]
     },
     "execution_count": 126,
     "metadata": {},
     "output_type": "execute_result"
    }
   ],
   "source": [
    "# get the value counts for language_preferred\n",
    "abtest.groupby(\"group\")['language_preferred'].value_counts()"
   ]
  },
  {
   "cell_type": "code",
   "execution_count": 131,
   "metadata": {},
   "outputs": [
    {
     "name": "stdout",
     "output_type": "stream",
     "text": [
      "                    time_spent_on_the_page\n",
      "language_preferred                        \n",
      "English                           5.559063\n",
      "French                            5.253235\n",
      "Spanish                           5.331765\n"
     ]
    }
   ],
   "source": [
    "# mean of time spent on page x depending on language_preferred\n",
    "print(abtest.groupby(\"language_preferred\")[\"group\",\"time_spent_on_the_page\"].mean())"
   ]
  },
  {
   "cell_type": "code",
   "execution_count": 114,
   "metadata": {},
   "outputs": [
    {
     "data": {
      "image/png": "[encoded data removed]",
      "text/plain": [
       "<Figure size 720x504 with 1 Axes>"
      ]
     },
     "metadata": {},
     "output_type": "display_data"
    }
   ],
   "source": [
    "plt.subplots(figsize=(10,7))\n",
    "ax = sns.boxplot(x=\"language_preferred\", y=\"time_spent_on_the_page\", data=abtest,\n",
    "           hue= 'group', linewidth=2, palette='gnuplot')\n",
    "ax.set_title (\"Time Users Spent on Each Page \", fontsize=15)\n",
    "plt.show()"
   ]
  },
  {
   "cell_type": "markdown",
   "metadata": {},
   "source": [
    "##### New Observations\n",
    "- For testing of normality, Shapiro-Wilk's test is applied to the response variable\n",
    "- For equiality of variance, Levene test is applied to the response variable.\n",
    "\n",
    "### Shapiro-Wilk's Test\n",
    "Null Hypothesis \n",
    ">$H_0:$ time spent on a page follows a normal distribution against\n",
    "\n",
    "Alternative Hypothesis\n",
    ">$H_a:$ time spent on a page does not follow a normal distribution"
   ]
  },
  {
   "cell_type": "code",
   "execution_count": 133,
   "metadata": {},
   "outputs": [
    {
     "name": "stdout",
     "output_type": "stream",
     "text": [
      "The p-value for Shapiro-Wilk Test is:  0.5643684267997742\n"
     ]
    }
   ],
   "source": [
    "# Assumtion 1: Normality\n",
    "# find the p-value\n",
    "\n",
    "w, p_value = stats.shapiro(abtest['time_spent_on_the_page'])\n",
    "print('The p-value for Shapiro-Wilk Test is: ', p_value)"
   ]
  },
  {
   "cell_type": "markdown",
   "metadata": {},
   "source": [
    "##### Obervations\n",
    "- The p-value (0.564) is greater than the level of significance (0.05). Therefore, we fail to reject the null hypothesis and claim that the time spent on a page does not follow a normal distribution.\n",
    "\n",
    "### Lavene's Test\n",
    "Null Hypothesis\n",
    ">$H_0:$ All the population variances are equal\n",
    "\n",
    "Alternative Hypothesis\n",
    ">$H_a:$ At least one variance is different from the rest"
   ]
  },
  {
   "cell_type": "code",
   "execution_count": 142,
   "metadata": {},
   "outputs": [
    {
     "name": "stdout",
     "output_type": "stream",
     "text": [
      "The p-value for Levene Test is:  0.06515086840327314\n"
     ]
    }
   ],
   "source": [
    "# Assumption 2: Homogenity of Variance\n",
    "# import the Levene function\n",
    "from scipy.stats import levene\n",
    "statistic, p_value = levene(abtest['time_spent_on_the_page'][abtest['language_preferred'] ==\"English\"],\n",
    "                           abtest['time_spent_on_the_page'][abtest['language_preferred'] == \"French\"], \n",
    "                           abtest['time_spent_on_the_page'][abtest['language_preferred'] == \"Spanish\"])\n",
    "# find the p-value\n",
    "print(\"The p-value for Levene Test is: \", p_value)"
   ]
  },
  {
   "cell_type": "markdown",
   "metadata": {},
   "source": [
    "##### Obervations\n",
    "- The p-value (0.065) is greater than the level of significance (0.05). Therefore, we fail to reject the null hypothesis and claim that at least one variance is different from the rest.\n",
    "\n",
    "### Finding the p-value"
   ]
  },
  {
   "cell_type": "code",
   "execution_count": 145,
   "metadata": {},
   "outputs": [
    {
     "name": "stdout",
     "output_type": "stream",
     "text": [
      "The p-value for ANOVA Test is:  0.8665610536012648\n"
     ]
    }
   ],
   "source": [
    "# import the required function\n",
    "from scipy.stats import f_oneway\n",
    "\n",
    "# one-way anova test\n",
    "t_stat, p_value = f_oneway(abtest.loc[abtest['language_preferred'] == 'English', 'time_spent_on_the_page'],\n",
    "                          abtest.loc[abtest['language_preferred'] == 'French', 'time_spent_on_the_page'],\n",
    "                          abtest.loc[abtest['language_preferred'] == 'Spanish', 'time_spent_on_the_page'])\n",
    "print('The p-value for ANOVA Test is: ', p_value)"
   ]
  },
  {
   "cell_type": "markdown",
   "metadata": {},
   "source": [
    "##### Observations\n",
    "- The p-value is greater (0.866) than the level of significance (0.05). Therefore, we cannot reject the null hypothesis. We do not have enough evidence to reject the null hypothesis. We do not have enough statistical significance to conclude that at least one mean time is different for a preferred language at a 0.05 significance level.\n",
    "\n",
    "### Multiple Comparison Test (Tukey HSD)\n",
    "in order to identify which preferred language mean is different from the other preferred languages\n",
    "\n",
    "Null Hypothesis\n",
    ">$H_0: 𝜇_1=𝜇_2 \\text{ and } 𝜇_1=𝜇_3 \\text{ and } 𝜇_2=𝜇_3$\n",
    "\n",
    "Alternative Hypothesis\n",
    ">$H_a: 𝜇_1\\neq𝜇_2 \\text{ or } 𝜇_1\\neq𝜇_3 \\text{ or } 𝜇_2\\neq𝜇_3$\n"
   ]
  },
  {
   "cell_type": "code",
   "execution_count": 153,
   "metadata": {},
   "outputs": [
    {
     "name": "stdout",
     "output_type": "stream",
     "text": [
      " Multiple Comparison of Means - Tukey HSD, FWER=0.05 \n",
      "=====================================================\n",
      " group1  group2 meandiff p-adj   lower  upper  reject\n",
      "-----------------------------------------------------\n",
      "English  French  -0.3058 0.8482 -1.7123 1.1006  False\n",
      "English Spanish  -0.2273    0.9 -1.6338 1.1792  False\n",
      " French Spanish   0.0785    0.9 -1.3065 1.4635  False\n",
      "-----------------------------------------------------\n"
     ]
    }
   ],
   "source": [
    "# import the required functions\n",
    "from statsmodels.stats.multicomp import pairwise_tukeyhsd\n",
    "\n",
    "# perform multiple pairwise comparison (Tukey HSD)\n",
    "mult_comp = pairwise_tukeyhsd(endog = abtest['time_spent_on_the_page'], groups = abtest['language_preferred'],\n",
    "                              alpha = 0.05)\n",
    "print(mult_comp)"
   ]
  },
  {
   "cell_type": "markdown",
   "metadata": {},
   "source": [
    "##### Observations\n",
    "- Confirming that the p-value for the pair English-French, English-Spanish, French-Spanish is greater than the level of significance (0.05). The null hypothesis cannot be rejected. We do not have enough statistical significance to conclude that at least one preferred language is different from the rest at 0.05 significance level."
   ]
  },
  {
   "cell_type": "markdown",
   "metadata": {},
   "source": [
    "## Conclusion"
   ]
  },
  {
   "cell_type": "markdown",
   "metadata": {},
   "source": [
    "-As the p-value (~0.0001) is less than the level of significance (0.05). Therefore, we can reject the null hypothesis and claim the mean time users spent on the new landing page is greater than the time users spent on the old landing page.\n",
    "\n",
    "-As the p-value is greater than the level of significance (0.05), we can not reject the null hypothesis. Therefore, we do not have enough statistical significance to conclude that the old page has less conversions than the new.\n",
    "\n",
    "-The p-value for all_data (the converted ratio for preferred language) is greater (0.568) than the level of significance (0.05). Therefore, we fail to reject the null hypothesis. We do not have enough evidence to say that the conversion rate depends on the preferred language.\n",
    "\n",
    "-The p-value for group_data (the converted ratio for users in both groups treatment and control, the value we are selecting) is greater (0.199) than the level of significance (0.05). Therefore, we fail to reject the null hypothesis. We do not have enought evidence to say that the conversion rate depends on the preferred language. This is the value taking into consideration for our final conclusion.\n",
    "\n",
    "-The p-value is greater (0.866) than the level of significance (0.05). Therefore, we cannot reject the null hypothesis. We do not have enough evidence to reject the null hypothesis. We do not have enough statistical significance to conclude that at least one preferred language is different from the rest at 0.05 significance level.\n",
    "\n",
    "-Users are spending more time on the new landing page instead of the old landing page.\n",
    "\n",
    "-We do not have enough statistical data to determine if the conversion rate is greater.\n",
    "Need a bigger sample of users.\n",
    "\n",
    "-We do not have enough statistical data to determine if the user converted based on the user's preferred language. Need a bigger sample of users."
   ]
  },
  {
   "cell_type": "markdown",
   "metadata": {},
   "source": [
    "## Reservations"
   ]
  },
  {
   "cell_type": "markdown",
   "metadata": {},
   "source": [
    "We do not have enough statistical significance to conclude that at least one preferred language is different from the rest at 0.05 significance level. We need a bigger sample space, or a different level of significance to confirm our hypothesis for the means in language preferred. "
   ]
  }
 ],
 "metadata": {
  "kernelspec": {
   "display_name": "Python 3",
   "language": "python",
   "name": "python3"
  },
  "language_info": {
   "codemirror_mode": {
    "name": "ipython",
    "version": 3
   },
   "file_extension": ".py",
   "mimetype": "text/x-python",
   "name": "python",
   "nbconvert_exporter": "python",
   "pygments_lexer": "ipython3",
   "version": "3.8.5"
  }
 },
 "nbformat": 4,
 "nbformat_minor": 4
}
